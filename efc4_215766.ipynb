{
  "nbformat": 4,
  "nbformat_minor": 0,
  "metadata": {
    "colab": {
      "provenance": []
    },
    "kernelspec": {
      "name": "python3",
      "display_name": "Python 3"
    },
    "language_info": {
      "name": "python"
    }
  },
  "cells": [
    {
      "cell_type": "markdown",
      "metadata": {
        "id": "yfxGsx3If4En"
      },
      "source": [
        "Item A"
      ]
    },
    {
      "cell_type": "code",
      "metadata": {
        "id": "yzPudQoRNa4-"
      },
      "source": [
        "# Code to read csv file into colaboratory:\n",
        "!pip install -U -q PyDrive\n",
        "from pydrive.auth import GoogleAuth\n",
        "from pydrive.drive import GoogleDrive\n",
        "from google.colab import auth\n",
        "from oauth2client.client import GoogleCredentials\n",
        "\n",
        "auth.authenticate_user()\n",
        "gauth = GoogleAuth()\n",
        "gauth.credentials = GoogleCredentials.get_application_default()\n",
        "drive = GoogleDrive(gauth)\n",
        "\n",
        "#2.1 Get the file\n",
        "creed_file = drive.CreateFile({'id':'1kh1bfLtBxcXm4yXlvPSagTTWphTtGvaB'}) # replace the id with id of file you want to access\n",
        "creed_file.GetContentFile('creed_overcome.wav')\n",
        "\n",
        "#Import libraries\n",
        "import math\n",
        "import numpy as np\n",
        "import matplotlib.pyplot as plt\n",
        "from scipy import signal\n",
        "\n",
        "#for audio\n",
        "from IPython.display import Audio\n",
        "from scipy.io import wavfile\n",
        "import cffi\n",
        "import librosa\n",
        "import IPython.display as ipd\n",
        "\n",
        "creed_file, fs = librosa.load('creed_overcome.wav',sr=44100)\n",
        "ipd.Audio(creed_file,rate=fs)\n",
        "\n",
        "\n",
        "#referencias utilizadas para aprender carregar arquivos do google drive no ambiente colab\n",
        "#link:<https://www.youtube.com/watch?v=oqMImCeXi6o>"
      ],
      "execution_count": null,
      "outputs": []
    },
    {
      "cell_type": "markdown",
      "metadata": {
        "id": "nssw_s46f1KF"
      },
      "source": [
        "Item B"
      ]
    },
    {
      "cell_type": "code",
      "metadata": {
        "colab": {
          "base_uri": "https://localhost:8080/",
          "height": 463
        },
        "id": "nu_lge8TO1xE",
        "outputId": "96d645bd-1865-4e23-b705-65fe3b75857b"
      },
      "source": [
        "# Code to read csv file into colaboratory:\n",
        "!pip install -U -q PyDrive\n",
        "from pydrive.auth import GoogleAuth\n",
        "from pydrive.drive import GoogleDrive\n",
        "from google.colab import auth\n",
        "from oauth2client.client import GoogleCredentials\n",
        "\n",
        "auth.authenticate_user()\n",
        "gauth = GoogleAuth()\n",
        "gauth.credentials = GoogleCredentials.get_application_default()\n",
        "drive = GoogleDrive(gauth)\n",
        "\n",
        "#2.1 Get the file\n",
        "creed_file = drive.CreateFile({'id':'1kh1bfLtBxcXm4yXlvPSagTTWphTtGvaB'}) # replace the id with id of file you want to access\n",
        "creed_file.GetContentFile('creed_overcome.wav')\n",
        "\n",
        "#Import libraries\n",
        "import math\n",
        "import numpy as np\n",
        "import matplotlib.pyplot as plt\n",
        "from scipy import signal\n",
        "\n",
        "#for audio\n",
        "from IPython.display import Audio\n",
        "from scipy.io import wavfile\n",
        "import cffi\n",
        "import librosa\n",
        "import IPython.display as ipd\n",
        "\n",
        "creed_file, fs = librosa.load('creed_overcome.wav',sr=44100)\n",
        "ipd.Audio(creed_file,rate=fs)\n",
        "\n",
        "\n",
        "#referencias utilizadas para aprender carregar arquivos do google drive no ambiente colab\n",
        "#link:<https://www.youtube.com/watch?v=oqMImCeXi6o>\n",
        "\n",
        "#Spectrum function\n",
        "def espectro(y):\n",
        "\n",
        "    #fourier transform\n",
        "    Y = np.abs(np.fft.fft(y))\n",
        "    #frequencies\n",
        "    w = np.linspace(0,2*math.pi,Y.size)\n",
        "\n",
        "    fig = plt.figure(figsize=(8, 6), dpi=80,facecolor='yellow')\n",
        "    ax = fig.add_subplot(111)\n",
        "    plt.title(\"Questão B\")\n",
        "    ax.plot(w,Y/np.max(Y))\n",
        "    ax.grid(True, color='dimgray', linestyle='--', linewidth=0.5)\n",
        "    ax.set_axisbelow(True)\n",
        "    ax.legend()\n",
        "    ax.set_ylabel('|$Y(e^{j\\Omega})$|')\n",
        "    ax.set_xlabel('$\\Omega[rad]$')\n",
        "\n",
        "    #plot signal spectrum using the function defined above\n",
        "espectro(creed_file)"
      ],
      "execution_count": null,
      "outputs": [
        {
          "output_type": "stream",
          "name": "stderr",
          "text": [
            "No handles with labels found to put in legend.\n"
          ]
        },
        {
          "output_type": "display_data",
          "data": {
            "image/png": "[encoded data removed]",
            "text/plain": [
              "<Figure size 640x480 with 1 Axes>"
            ]
          },
          "metadata": {}
        }
      ]
    }
  ]
}